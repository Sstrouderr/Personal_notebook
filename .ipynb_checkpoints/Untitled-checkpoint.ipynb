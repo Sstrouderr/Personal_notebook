{
 "cells": [
  {
   "cell_type": "markdown",
   "metadata": {},
   "source": [
    "## This is my first personal notebook"
   ]
  },
  {
   "cell_type": "markdown",
   "metadata": {},
   "source": [
    "I'm going to attempt to create a game following the website:\n",
    "https://realpython.com/pygame-a-primer/"
   ]
  },
  {
   "cell_type": "code",
   "execution_count": 1,
   "metadata": {},
   "outputs": [
    {
     "name": "stdout",
     "output_type": "stream",
     "text": [
      "Requirement already satisfied: pygame in c:\\users\\marcorr\\anaconda3\\envs\\learn-env\\lib\\site-packages (2.3.0)\n",
      "Note: you may need to restart the kernel to use updated packages.\n"
     ]
    }
   ],
   "source": [
    "pip install pygame"
   ]
  },
  {
   "cell_type": "code",
   "execution_count": 2,
   "metadata": {},
   "outputs": [
    {
     "name": "stdout",
     "output_type": "stream",
     "text": [
      "pygame 2.3.0 (SDL 2.24.2, Python 3.8.5)\n",
      "Hello from the pygame community. https://www.pygame.org/contribute.html\n"
     ]
    }
   ],
   "source": [
    "import pygame"
   ]
  },
  {
   "cell_type": "code",
   "execution_count": 3,
   "metadata": {},
   "outputs": [],
   "source": [
    "# Here i'm initializing the pygame library\n",
    "pygame.init()\n",
    "\n",
    "# here i'm setting up the drawing window -- if you do this alone the program will not respond\n",
    "screen = pygame.display.set_mode([500,500])\n",
    "\n",
    "# Running until the user asks to quit\n",
    "running = True\n",
    "while running:\n",
    "    \n",
    "    # did the user click the window close button?\n",
    "    for event in pygame.event.get():\n",
    "        if event.type == pygame.QUIT:\n",
    "            running = False\n",
    "            \n",
    "    # Filling the background with white\n",
    "    screen.fill((255, 255, 255))\n",
    "    \n",
    "    # Drawing a solid blue circle in the center\n",
    "    pygame.draw.circle(screen, (0, 153, 76), (250, 250), 75)\n",
    "    \n",
    "    # Flipping the display\n",
    "    pygame.display.flip()\n",
    "    \n",
    "# Now time to quit\n",
    "pygame.quit()"
   ]
  },
  {
   "cell_type": "markdown",
   "metadata": {},
   "source": [
    "The code above should return the image you see below, except the code above will make the circle green"
   ]
  },
  {
   "attachments": {
    "pygame-simple.webp": {
     "image/webp": "[encoded data removed]"
    }
   },
   "cell_type": "markdown",
   "metadata": {},
   "source": [
    "![pygame-simple.webp](attachment:pygame-simple.webp)"
   ]
  },
  {
   "cell_type": "markdown",
   "metadata": {},
   "source": [
    "### Let’s break this code down, section by section:\n",
    "\n",
    "(Copied this from the website above)\n",
    "\n",
    "Lines 4 and 5 import and initialize the pygame library. Without these lines, there is no pygame.\n",
    "\n",
    "Line 8 sets up your program’s display window. You provide either a list or a tuple that specifies the width and height of the window to create. This program uses a list to create a square window with 500 pixels on each side.\n",
    "\n",
    "Lines 11 and 12 set up a game loop to control when the program ends. You’ll cover game loops later on in this tutorial.\n",
    "\n",
    "Lines 15 to 17 scan and handle events within the game loop. You’ll get to events a bit later as well. In this case, the only event handled is pygame.QUIT, which occurs when the user clicks the window close button.\n",
    "\n",
    "Line 20 fills the window with a solid color. screen.fill() accepts either a list or tuple specifying the RGB values for the color. Since (255, 255, 255) was provided, the window is filled with white.\n",
    "\n",
    "Line 23 draws a circle in the window, using the following parameters:\n",
    "\n",
    "screen: the window on which to draw\n",
    "(0, 0, 255): a tuple containing RGB color values\n",
    "(250, 250): a tuple specifying the center coordinates of the circle\n",
    "75: the radius of the circle to draw in pixels\n",
    "Line 26 updates the contents of the display to the screen. Without this call, nothing appears in the window!\n",
    "\n",
    "Line 29 exits pygame. This only happens once the loop finishes."
   ]
  },
  {
   "cell_type": "code",
   "execution_count": null,
   "metadata": {},
   "outputs": [],
   "source": []
  }
 ],
 "metadata": {
  "kernelspec": {
   "display_name": "Python 3",
   "language": "python",
   "name": "python3"
  },
  "language_info": {
   "codemirror_mode": {
    "name": "ipython",
    "version": 3
   },
   "file_extension": ".py",
   "mimetype": "text/x-python",
   "name": "python",
   "nbconvert_exporter": "python",
   "pygments_lexer": "ipython3",
   "version": "3.8.5"
  }
 },
 "nbformat": 4,
 "nbformat_minor": 4
}
